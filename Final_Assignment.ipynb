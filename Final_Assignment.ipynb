{
 "cells": [
  {
   "cell_type": "markdown",
   "id": "166580d7-2892-4289-aec0-f251d276bbcf",
   "metadata": {},
   "source": [
    "# Data Science Tools and Ecosystems"
   ]
  },
  {
   "cell_type": "markdown",
   "id": "2e353da8-07e0-4989-ae74-99da5fadc3dc",
   "metadata": {},
   "source": [
    "### In this notebook, Data Science Tools and Ecosystems are summarized."
   ]
  },
  {
   "cell_type": "markdown",
   "id": "66ea1d68-367f-4ceb-b9b7-293d10981fae",
   "metadata": {},
   "source": [
    "#### Types of Data Science languages are:\n",
    "1. R\n",
    "2. Python\n",
    "3. SQL\n",
    "4. Spark"
   ]
  },
  {
   "cell_type": "markdown",
   "id": "e87a8aa4-af32-4972-86fc-eaf956e5b098",
   "metadata": {},
   "source": [
    "#### Some Data Science libraries are: \n",
    "1. numpy\n",
    "2. scipy\n",
    "3. matplotlib\n",
    "4. pandas"
   ]
  },
  {
   "cell_type": "markdown",
   "id": "4ac1672e-7f64-482b-9e55-2472037034c8",
   "metadata": {},
   "source": [
    "#### Some Data science tools are: "
   ]
  },
  {
   "cell_type": "markdown",
   "id": "fd08f96f-820e-447f-a5a1-00db9f9ec2ae",
   "metadata": {
    "jp-MarkdownHeadingCollapsed": true
   },
   "source": [
    "| Data Science Tools |\n",
    "| ---- |\n",
    "| Apache Spark |\n",
    "| Anaconda |\n",
    "| Jupyter Notebooks |\n",
    "| Spyder |"
   ]
  },
  {
   "cell_type": "markdown",
   "id": "40c19cad-6568-49e0-998e-33956946d057",
   "metadata": {},
   "source": [
    "### Now we will look as an arithmetic expression"
   ]
  },
  {
   "cell_type": "code",
   "execution_count": 3,
   "id": "304a882f-dc53-49e6-847f-83e624405494",
   "metadata": {},
   "outputs": [
    {
     "data": {
      "text/plain": [
       "17"
      ]
     },
     "execution_count": 3,
     "metadata": {},
     "output_type": "execute_result"
    }
   ],
   "source": [
    "#Make an equation that gives the answer of 17\n",
    "(5 * 3) + 2"
   ]
  },
  {
   "cell_type": "code",
   "execution_count": 5,
   "id": "de3820db-29f7-4465-b460-21261a4fc63c",
   "metadata": {},
   "outputs": [
    {
     "name": "stdout",
     "output_type": "stream",
     "text": [
      "3.3333333333333335\n"
     ]
    }
   ],
   "source": [
    "hours = 200 / 60\n",
    "print(hours)"
   ]
  },
  {
   "cell_type": "markdown",
   "id": "98c07053-edf5-4e87-9edb-865d0e01a038",
   "metadata": {},
   "source": [
    "##### The objectives of this is to show the usefulness of jupyter notebook\n",
    "1. Add comments to cells\n",
    "2. Create markdown cells with information\n",
    "3. Include ordered lists of relevant info"
   ]
  },
  {
   "cell_type": "markdown",
   "id": "fe4b632a-557f-4a37-b6d7-3eb33305c9fd",
   "metadata": {},
   "source": [
    "###### Author: Matthew Kilpatrick"
   ]
  },
  {
   "cell_type": "code",
   "execution_count": null,
   "id": "23ede924-b96b-46f6-9976-786cdafb13ca",
   "metadata": {},
   "outputs": [],
   "source": []
  }
 ],
 "metadata": {
  "kernelspec": {
   "display_name": "Python 3 (ipykernel)",
   "language": "python",
   "name": "python3"
  },
  "language_info": {
   "codemirror_mode": {
    "name": "ipython",
    "version": 3
   },
   "file_extension": ".py",
   "mimetype": "text/x-python",
   "name": "python",
   "nbconvert_exporter": "python",
   "pygments_lexer": "ipython3",
   "version": "3.11.6"
  }
 },
 "nbformat": 4,
 "nbformat_minor": 5
}
