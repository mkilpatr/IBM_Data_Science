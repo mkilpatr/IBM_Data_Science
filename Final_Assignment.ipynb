{
 "cells": [
  {
   "cell_type": "markdown",
   "id": "166580d7-2892-4289-aec0-f251d276bbcf",
   "metadata": {},
   "source": [
    "# Final Assignment"
   ]
  },
  {
   "cell_type": "markdown",
   "id": "2e353da8-07e0-4989-ae74-99da5fadc3dc",
   "metadata": {},
   "source": [
    "### This is an intro to the use of a jupyter notebook."
   ]
  },
  {
   "cell_type": "markdown",
   "id": "66ea1d68-367f-4ceb-b9b7-293d10981fae",
   "metadata": {},
   "source": [
    "#### Types of Data Science languages are:\n",
    "R, Python, SQL, Spark"
   ]
  },
  {
   "cell_type": "markdown",
   "id": "e87a8aa4-af32-4972-86fc-eaf956e5b098",
   "metadata": {},
   "source": [
    "#### Some Data Science libraries are: \n",
    "numpy, scipy, matplotlib, pandas"
   ]
  },
  {
   "cell_type": "markdown",
   "id": "6fab6493-9422-4c05-af6b-1dd8786bcdc7",
   "metadata": {},
   "source": [
    "#### Some Data science tools are: \n",
    "Apache Spark, Hadoop, scikit-learn, tensorflow, pytorch"
   ]
  },
  {
   "cell_type": "markdown",
   "id": "40c19cad-6568-49e0-998e-33956946d057",
   "metadata": {},
   "source": [
    "### Now we will look as an arithmetic expression"
   ]
  },
  {
   "cell_type": "code",
   "execution_count": 1,
   "id": "304a882f-dc53-49e6-847f-83e624405494",
   "metadata": {},
   "outputs": [
    {
     "data": {
      "text/plain": [
       "2576"
      ]
     },
     "execution_count": 1,
     "metadata": {},
     "output_type": "execute_result"
    }
   ],
   "source": [
    "(6 + 362)*7"
   ]
  },
  {
   "cell_type": "code",
   "execution_count": 2,
   "id": "de3820db-29f7-4465-b460-21261a4fc63c",
   "metadata": {},
   "outputs": [
    {
     "name": "stdout",
     "output_type": "stream",
     "text": [
      "200 minutes is 3 hours and 20 minutes\n"
     ]
    }
   ],
   "source": [
    "def min_to_hours(min):\n",
    "    hours = min // 60\n",
    "    min_left = min % 60\n",
    "    return print('{0} minutes is {1} hours and {2} minutes'.format(min, hours, min_left))\n",
    "\n",
    "min_to_hours(200)"
   ]
  },
  {
   "cell_type": "markdown",
   "id": "98c07053-edf5-4e87-9edb-865d0e01a038",
   "metadata": {},
   "source": [
    "##### The objectives of this is to show the usefulness of jupyter notebooks"
   ]
  },
  {
   "cell_type": "markdown",
   "id": "fe4b632a-557f-4a37-b6d7-3eb33305c9fd",
   "metadata": {},
   "source": [
    "###### Author: Matthew Kilpatrick"
   ]
  },
  {
   "cell_type": "code",
   "execution_count": null,
   "id": "23ede924-b96b-46f6-9976-786cdafb13ca",
   "metadata": {},
   "outputs": [],
   "source": []
  }
 ],
 "metadata": {
  "kernelspec": {
   "display_name": "Python 3 (ipykernel)",
   "language": "python",
   "name": "python3"
  },
  "language_info": {
   "codemirror_mode": {
    "name": "ipython",
    "version": 3
   },
   "file_extension": ".py",
   "mimetype": "text/x-python",
   "name": "python",
   "nbconvert_exporter": "python",
   "pygments_lexer": "ipython3",
   "version": "3.11.6"
  }
 },
 "nbformat": 4,
 "nbformat_minor": 5
}
